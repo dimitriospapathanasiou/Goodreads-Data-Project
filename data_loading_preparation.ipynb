{
 "cells": [
  {
   "cell_type": "markdown",
   "metadata": {},
   "source": [
    "* Import necessary libraries."
   ]
  },
  {
   "cell_type": "code",
   "execution_count": 1,
   "metadata": {},
   "outputs": [],
   "source": [
    "import pandas as pd\n",
    "\n",
    "from datetime import datetime"
   ]
  },
  {
   "cell_type": "markdown",
   "metadata": {},
   "source": [
    "* Read clean dataset."
   ]
  },
  {
   "cell_type": "code",
   "execution_count": 2,
   "metadata": {},
   "outputs": [],
   "source": [
    "books_df = pd.read_csv('cleaned_books.csv')"
   ]
  },
  {
   "cell_type": "markdown",
   "metadata": {},
   "source": [
    "* Format date in the df."
   ]
  },
  {
   "cell_type": "code",
   "execution_count": 3,
   "metadata": {},
   "outputs": [],
   "source": [
    "books_df['publication_date'] = pd.to_datetime(books_df['publication_date'], format='%m/%d/%Y')"
   ]
  },
  {
   "cell_type": "markdown",
   "metadata": {},
   "source": [
    "* Prepare DimBook data."
   ]
  },
  {
   "cell_type": "code",
   "execution_count": 4,
   "metadata": {},
   "outputs": [],
   "source": [
    "dim_book = books_df[['bookID', 'title', 'num_pages', 'isbn', 'isbn13']].drop_duplicates(subset='bookID')"
   ]
  },
  {
   "cell_type": "markdown",
   "metadata": {},
   "source": [
    "* Prepare DimAuthor data."
   ]
  },
  {
   "cell_type": "code",
   "execution_count": 5,
   "metadata": {},
   "outputs": [],
   "source": [
    "dim_author = books_df[['author_id', 'authors']].drop_duplicates()\n",
    "dim_author.rename(columns={'authors': 'author'}, inplace=True)"
   ]
  },
  {
   "cell_type": "markdown",
   "metadata": {},
   "source": [
    "* Prepare DimLanguage data."
   ]
  },
  {
   "cell_type": "code",
   "execution_count": 6,
   "metadata": {},
   "outputs": [],
   "source": [
    "dim_language = books_df[['language_id', 'language_code']].drop_duplicates()"
   ]
  },
  {
   "cell_type": "markdown",
   "metadata": {},
   "source": [
    "* Prepare DimPublisher data."
   ]
  },
  {
   "cell_type": "code",
   "execution_count": 7,
   "metadata": {},
   "outputs": [],
   "source": [
    "dim_publisher = books_df[['publisher_id', 'publisher']].drop_duplicates()"
   ]
  },
  {
   "cell_type": "markdown",
   "metadata": {},
   "source": [
    "* Prepare DimTime data."
   ]
  },
  {
   "cell_type": "code",
   "execution_count": 8,
   "metadata": {},
   "outputs": [],
   "source": [
    "# Set date range\n",
    "start_date = '1900-01-01'\n",
    "end_date = '2020-03-31'\n",
    "date_range = pd.date_range(start=start_date, end=end_date)\n",
    "\n",
    "# Create a DataFrame with calculated time attributes\n",
    "dim_time = pd.DataFrame({\n",
    "    'time_id': range(1, len(date_range) + 1),  # Primary Key\n",
    "    'date': date_range,\n",
    "    'year': date_range.year,\n",
    "    'quarter': date_range.quarter,\n",
    "    'month': date_range.month,\n",
    "    'day': date_range.day,\n",
    "    'week': date_range.isocalendar().week,\n",
    "    'day_of_week': date_range.dayofweek + 1,  # Monday=0 in Python, adjust to SQL\n",
    "    'is_weekend': date_range.dayofweek.isin([5, 6]).astype(int),  # Saturday, Sunday\n",
    "})"
   ]
  },
  {
   "cell_type": "markdown",
   "metadata": {},
   "source": [
    "* Prepare DimBookAuthor data."
   ]
  },
  {
   "cell_type": "code",
   "execution_count": 9,
   "metadata": {},
   "outputs": [],
   "source": [
    "dim_book_author = books_df[['bookID', 'author_id']].drop_duplicates()"
   ]
  },
  {
   "cell_type": "markdown",
   "metadata": {},
   "source": [
    "* Prepare DimBookPublisher data."
   ]
  },
  {
   "cell_type": "code",
   "execution_count": 10,
   "metadata": {},
   "outputs": [],
   "source": [
    "dim_book_publisher = books_df[['bookID', 'publisher_id']].drop_duplicates()"
   ]
  },
  {
   "cell_type": "markdown",
   "metadata": {},
   "source": [
    "* Prepare FactBook data."
   ]
  },
  {
   "cell_type": "code",
   "execution_count": 11,
   "metadata": {},
   "outputs": [],
   "source": [
    "fact_book = books_df[['bookID', 'author_id', 'language_id', 'publisher_id', \n",
    "                      'average_rating', 'ratings_count', 'text_reviews_count']].copy()\n",
    "\n",
    "# Map publication_date to time_id in the fact table\n",
    "date_to_time_id = dict(zip(dim_time['date'], dim_time['time_id']))\n",
    "fact_book['time_id'] = books_df['publication_date'].map(date_to_time_id)\n",
    "\n",
    "# Remove duplicate rows in fact_book (one per book, author, and publisher)\n",
    "fact_book = fact_book.drop_duplicates(subset=['bookID', 'author_id', 'publisher_id'])"
   ]
  },
  {
   "cell_type": "markdown",
   "metadata": {},
   "source": [
    "* Export dataframes to CSV files."
   ]
  },
  {
   "cell_type": "code",
   "execution_count": 12,
   "metadata": {},
   "outputs": [],
   "source": [
    "#dim_book.to_csv('dim_book.csv', index=False)\n",
    "#dim_author.to_csv('dim_author.csv', index=False)\n",
    "#dim_language.to_csv('dim_language.csv', index=False)\n",
    "#dim_publisher.to_csv('dim_publisher.csv', index=False)\n",
    "#dim_time.to_csv('dim_time.csv', index=False)\n",
    "#dim_book_author.to_csv('dim_book_author.csv', index=False)\n",
    "#dim_book_publisher.to_csv('dim_book_publisher.csv', index=False)\n",
    "#fact_book.to_csv('fact_book.csv', index=True)"
   ]
  }
 ],
 "metadata": {
  "kernelspec": {
   "display_name": "Python 3",
   "language": "python",
   "name": "python3"
  },
  "language_info": {
   "codemirror_mode": {
    "name": "ipython",
    "version": 3
   },
   "file_extension": ".py",
   "mimetype": "text/x-python",
   "name": "python",
   "nbconvert_exporter": "python",
   "pygments_lexer": "ipython3",
   "version": "3.10.10"
  }
 },
 "nbformat": 4,
 "nbformat_minor": 2
}
